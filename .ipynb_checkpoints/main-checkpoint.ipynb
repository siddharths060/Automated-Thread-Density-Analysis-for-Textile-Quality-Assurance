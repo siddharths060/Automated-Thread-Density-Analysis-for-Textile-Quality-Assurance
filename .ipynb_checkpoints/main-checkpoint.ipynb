{
 "cells": [
  {
   "cell_type": "code",
   "execution_count": null,
   "id": "e7beb5bb-78e5-4847-85c1-dabeabcaea76",
   "metadata": {},
   "outputs": [],
   "source": [
    "import torch\n",
    "from utils.vit_model import VisionTransformer\n",
    "from utils.dataset_loader import FabricDataset\n",
    "import torch.utils.data as data\n",
    "import matplotlib.pyplot as plt\n",
    "import cv2\n",
    "\n",
    "# Load the model\n",
    "device = torch.device(\"cuda\" if torch.cuda.is_available() else \"cpu\")\n",
    "model = VisionTransformer().to(device)\n",
    "model.load_state_dict(torch.load('models/vit_fabric_model.pth'))\n",
    "model.eval()\n",
    "\n",
    "# Test the model on new fabric images\n",
    "test_image_path = 'fabric_data/test/fabric_2_20_25.jpg'\n",
    "image = cv2.imread(test_image_path)\n",
    "image = cv2.cvtColor(image, cv2.COLOR_BGR2RGB)\n",
    "\n",
    "# Apply necessary transformations (like resizing, normalization, etc.)\n",
    "\n",
    "# Predict on the test image\n",
    "output = model(image.to(device))\n",
    "print(\"Prediction Output:\", output)\n",
    "\n",
    "# Visualize results\n",
    "plt.imshow(image)\n",
    "plt.title(\"Test Image\")\n",
    "plt.show()\n"
   ]
  }
 ],
 "metadata": {
  "kernelspec": {
   "display_name": "Python 3 (ipykernel)",
   "language": "python",
   "name": "python3"
  },
  "language_info": {
   "codemirror_mode": {
    "name": "ipython",
    "version": 3
   },
   "file_extension": ".py",
   "mimetype": "text/x-python",
   "name": "python",
   "nbconvert_exporter": "python",
   "pygments_lexer": "ipython3",
   "version": "3.12.7"
  }
 },
 "nbformat": 4,
 "nbformat_minor": 5
}
