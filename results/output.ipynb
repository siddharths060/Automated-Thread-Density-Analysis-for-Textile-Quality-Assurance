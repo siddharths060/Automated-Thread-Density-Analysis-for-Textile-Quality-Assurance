{
 "cells": [
  {
   "cell_type": "code",
   "execution_count": null,
   "id": "ab544d9d-3ce7-47cc-a3e6-b9a5da8d4f85",
   "metadata": {},
   "outputs": [],
   "source": [
    "import pandas as pd\n",
    "\n",
    "# Assuming predictions are made in the form of a list of dictionaries\n",
    "predictions = [\n",
    "    {\"filename\": \"fabric_1_30_40.jpg\", \"warp_count\": 30, \"weft_count\": 40},\n",
    "    {\"filename\": \"fabric_2_20_25.jpg\", \"warp_count\": 20, \"weft_count\": 25},\n",
    "    # Add other predictions here\n",
    "]\n",
    "\n",
    "# Save the predictions to a CSV file\n",
    "predictions_df = pd.DataFrame(predictions)\n",
    "predictions_df.to_csv(\"results/predictions.csv\", index=False)"
   ]
  }
 ],
 "metadata": {
  "kernelspec": {
   "display_name": "Python 3 (ipykernel)",
   "language": "python",
   "name": "python3"
  },
  "language_info": {
   "codemirror_mode": {
    "name": "ipython",
    "version": 3
   },
   "file_extension": ".py",
   "mimetype": "text/x-python",
   "name": "python",
   "nbconvert_exporter": "python",
   "pygments_lexer": "ipython3",
   "version": "3.12.7"
  }
 },
 "nbformat": 4,
 "nbformat_minor": 5
}
